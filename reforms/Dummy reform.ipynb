{
 "metadata": {
  "name": "",
  "signature": "sha256:3b2bde0d9b112646c3c08726301b3a909e434ed7bb2fbdd276ca991026266370"
 },
 "nbformat": 3,
 "nbformat_minor": 0,
 "worksheets": [
  {
   "cells": [
    {
     "cell_type": "markdown",
     "metadata": {},
     "source": [
      "This notebook demonstrates how to implement a reform in OpenFisca.\n",
      "The reform is dummy and has no other purpose than to be a tutorial."
     ]
    },
    {
     "cell_type": "heading",
     "level": 1,
     "metadata": {},
     "source": [
      "The big picture"
     ]
    },
    {
     "cell_type": "markdown",
     "metadata": {},
     "source": [
      "Creating a reform in OpenFisca is pretty simple: we just need to write a function named `build_reform` which receives the tax_benefit_system parameter and returns a `Reform` object. We can work in this IPython Notebook, there is no need for the moment to install OpenFisca.\n",
      "\n",
      "The `tax_benefit_system` parameter is an instance of a `TaxBenefitSystem` object which holds the legislation and the entities of the country. The legislation is a JSON data structure containing the parameters of the law, like thresholds, tax scales, etc. The entities are objects pointing to formulas.\n",
      "\n",
      "The inner contents of the `build_reform` function is the code of the reform. In general it does two things: change the legislation and/or change formulas (via the entities). By change we mean add, delete or replace.\n",
      "\n",
      "Here is an empty skeleton example:\n",
      "\n",
      "    def build_reform(tax_benefit_system):\n",
      "\n",
      "        # Update legislation (skipped...)\n",
      "\n",
      "        # Update formulas (skipped...)\n",
      "\n",
      "        return reforms.Reform(\n",
      "            name = u'Dummy reform',\n",
      "            reference = tax_benefit_system,\n",
      "            # Here we'll fill other attributes later\n",
      "            )\n",
      "\n",
      "The actual contents of the `build_reform` function will be explained below. Let's just finish with the big picture.\n",
      "\n",
      "This `build_reform` function can be called from the outside like this (this is what we'll do after having finished writing it):\n",
      "\n",
      "    dummy_reform = build_reform(tax_benefit_system)  # tax_benefit_system initialized above\n",
      "    # Declare a scenario (skipped...)\n",
      "    reference_simulation = scenario.new_simulation(debug = True, reference = True)\n",
      "    reform_simulation = scenario.new_simulation(debug = True)\n",
      "\n",
      "We just declared a reference and a reform simulation object. Now we can calculate the same formula (for example \"revdisp\") with and without the reform:\n",
      "\n",
      "    reference_revdisp = reference_simulation.calculate('revdisp')\n",
      "    reform_revdisp = reform_simulation.calculate('revdisp')\n",
      "    print reference_revdisp, reform_revdisp\n",
      "\n",
      "But we can plug our reform on the OpenFisca Web API and watch the results interactively in the OpenFisca demonstrator (http://ui.openfisca.fr/).\n",
      "\n",
      "_This should be the goal of a good reform author :-)_\n",
      "\n",
      "Now let's dive deeper into the techniques of writing reforms."
     ]
    },
    {
     "cell_type": "code",
     "collapsed": false,
     "input": [
      "# Initialize required Python modules and variables\n",
      "\n",
      "from __future__ import division\n",
      "\n",
      "import copy\n",
      "import logging\n",
      "\n",
      "from numpy import maximum as max_\n",
      "from openfisca_core import columns, formulas, reforms\n",
      "from openfisca_core.accessors import law\n",
      "import openfisca_france\n",
      "from openfisca_france import entities, model\n",
      "\n",
      "tax_benefit_system = openfisca_france.init_country()"
     ],
     "language": "python",
     "metadata": {},
     "outputs": [],
     "prompt_number": 6
    },
    {
     "cell_type": "heading",
     "level": 1,
     "metadata": {},
     "source": [
      "Changing legislation"
     ]
    },
    {
     "cell_type": "markdown",
     "metadata": {},
     "source": [
      "In OpenFisca the legislation is handled in JSON as a tree of nodes.\n",
      "\n",
      "To change the legislation, we can either change one or many existing nodes, add new nodes or delete existing nodes.\n",
      "\n",
      "The idea is to duplicate the reference legislation (the existing one) with `copy.deepcopy` Python function, then applying our changes. Reminder: the reference legislation is accessible as an attribute of the `tax_benefit_system` object.\n",
      "\n",
      "For the purpose of this dummy reform, we are going to change the first slice of the \"IRPP\".\n",
      "\n",
      "    reference_legislation_json = tax_benefit_system.legislation_json\n",
      "\n",
      "    reform_legislation_json = copy.deepcopy(reference_legislation_json)\n",
      "\n",
      "To change the first slice of the \"IRPP\" we need to find its path into the JSON structure.\n",
      "\n",
      "To find its path, PRRRFFFTT => TODO"
     ]
    },
    {
     "cell_type": "heading",
     "level": 1,
     "metadata": {},
     "source": [
      "Changing a formula"
     ]
    },
    {
     "cell_type": "markdown",
     "metadata": {},
     "source": [
      "In OpenFisca a formula is a Python class with these attributes and methods:\n",
      "\n",
      "* column: type of the computed value(s)\n",
      "* entity_class: class of the entity on which the computation is defined\n",
      "* label: string describing the formula, better if provided.\n",
      "* url: external web page describing the formula, better if provided.\n",
      "* function(): the actual code of the computation. The parameters are provided automatically by the core engine.\n",
      "* get_output_period(): receives the period asked by the caller as a parameter and returns the period the formula is capable to compute.\n",
      "\n",
      "The formula is defined as vectorial computations (using Python NumPy). Each variable is an `Array` object and might contain more than a single value. Specifically the `Array` will contain as much values as the number of persons in the entity.\n",
      "\n",
      "Existing formula for \"Revenu disponible\" example:\n",
      "\n",
      "    class revenu_disponible(formulas.SimpleFormulaColumn):\n",
      "        column = columns.FloatCol(default = 0)\n",
      "        entity_class = entities.Menages\n",
      "        label = u\"Revenu disponible du m\u00e9nage\"\n",
      "        url = u\"http://fr.wikipedia.org/wiki/Revenu_disponible\"\n",
      "\n",
      "        def function(self, rev_trav_holder, pen_holder, rev_cap_holder, impot_revenu_lps_holder, psoc_holder):\n",
      "            impot_revenu_lps = self.sum_by_entity(impot_revenu_lps_holder)\n",
      "            pen = self.sum_by_entity(pen_holder)\n",
      "            psoc = self.cast_from_entity_to_role(psoc_holder, role = model.base.QUIFAM['chef'])\n",
      "            psoc = self.sum_by_entity(psoc)\n",
      "            rev_cap = self.sum_by_entity(rev_cap_holder)\n",
      "            rev_trav = self.sum_by_entity(rev_trav_holder)\n",
      "            return rev_trav + pen + rev_cap + impot_revenu_lps + psoc\n",
      "\n",
      "        def get_output_period(self, period):\n",
      "            return period.start.offset('first-of', 'month').period('year')"
     ]
    },
    {
     "cell_type": "code",
     "collapsed": false,
     "input": [
      "def build_reform(tax_benefit_system):\n",
      "    # Update legislation\n",
      "\n",
      "    reference_legislation_json = tax_benefit_system.legislation_json\n",
      "    reform_legislation_json = copy.deepcopy(reference_legislation_json)\n",
      "    reform_legislation_json['children'].update(reform_legislation_subtree)\n",
      "    # from openfisca_core import conv, legislations\n",
      "    # conv.check(legislations.validate_legislation_json)(reform_legislation_json)\n",
      "\n",
      "    # Update formulas\n",
      "\n",
      "    reform_entity_class_by_key_plural = reforms.clone_entity_classes(entities.entity_class_by_key_plural)\n",
      "\n",
      "    ReformIndividus = reform_entity_class_by_key_plural['individus']\n",
      "    ReformIndividus.column_by_name['assiette_csg'] = assiette_csg\n",
      "    ReformIndividus.column_by_name['impot_revenu_lps'] = impot_revenu_lps\n",
      "\n",
      "    ReformMenages = reform_entity_class_by_key_plural['menages']\n",
      "    ReformMenages.column_by_name['revdisp'] = revenu_disponible\n",
      "\n",
      "    return reforms.Reform(\n",
      "        entity_class_by_key_plural = reform_entity_class_by_key_plural,\n",
      "        legislation_json = reform_legislation_json,\n",
      "        name = u'Landais Piketty Saez',\n",
      "        reference = tax_benefit_system,\n",
      "        )"
     ],
     "language": "python",
     "metadata": {},
     "outputs": []
    }
   ],
   "metadata": {}
  }
 ]
}