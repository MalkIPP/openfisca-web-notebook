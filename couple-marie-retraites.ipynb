{
 "metadata": {
  "name": ""
 },
 "nbformat": 3,
 "nbformat_minor": 0,
 "worksheets": [
  {
   "cells": [
    {
     "cell_type": "code",
     "collapsed": false,
     "input": [
      "import collections\n",
      "import json\n",
      "import urllib2"
     ],
     "language": "python",
     "metadata": {},
     "outputs": [],
     "prompt_number": 1
    },
    {
     "cell_type": "code",
     "collapsed": false,
     "input": [
      "simulation = dict(\n",
      "    decomposition = [\n",
      "        dict(code = 'rsti', title = 'Retraite imposable'),\n",
      "        dict(code = 'revdisp', title = 'Revenu disponible'),\n",
      "        ],\n",
      "    scenarios = [\n",
      "        dict(\n",
      "            test_case = dict(\n",
      "                familles = [\n",
      "                    dict(\n",
      "                        parents = ['ind0', 'ind1'],\n",
      "                        ),\n",
      "                    ],\n",
      "                foyers_fiscaux = [\n",
      "                    dict(\n",
      "                        declarants = ['ind0', 'ind1'],\n",
      "                        ),\n",
      "                    ],\n",
      "                individus = [\n",
      "                    dict(\n",
      "                        activite = u'Retrait\u00e9',\n",
      "                        birth = '1940-01-01',\n",
      "                        id = 'ind0',\n",
      "                        rsti = 12500,\n",
      "                        statmarit = u'Mari\u00e9',\n",
      "                        ),\n",
      "                    dict(\n",
      "                        activite = u'Retrait\u00e9',\n",
      "                        birth = '1940-01-02',\n",
      "                        id = 'ind1',\n",
      "                        rsti = 12500,\n",
      "                        statmarit = u'Mari\u00e9',\n",
      "                        ),\n",
      "                    ],\n",
      "                menages = [\n",
      "                    dict(\n",
      "                        personne_de_reference = 'ind0',\n",
      "                        conjoint = 'ind1',\n",
      "                        loyer = 500,\n",
      "                        code_postal = 69001,\n",
      "                        zthabm = 0,\n",
      "                        so = 4,\n",
      "                        zone_apl = 2,\n",
      "                        ),\n",
      "                    ],\n",
      "                ),\n",
      "            year = 2013,\n",
      "            ),\n",
      "        ],\n",
      "    )"
     ],
     "language": "python",
     "metadata": {},
     "outputs": [],
     "prompt_number": 2
    },
    {
     "cell_type": "code",
     "collapsed": false,
     "input": [
      "request = urllib2.Request('http://api.openfisca.fr/api/1/simulate', headers = {\n",
      "    'Content-Type': 'application/json',\n",
      "    'User-Agent': 'OpenFisca-Notebook',\n",
      "    })\n",
      "try:\n",
      "    response = urllib2.urlopen(request, json.dumps(simulation))\n",
      "except urllib2.HTTPError as response:\n",
      "    print response.read()\n",
      "    raise\n",
      "response_dict = json.loads(response.read(), object_pairs_hook = collections.OrderedDict)\n",
      "variables = response_dict['value']"
     ],
     "language": "python",
     "metadata": {},
     "outputs": [],
     "prompt_number": 3
    },
    {
     "cell_type": "code",
     "collapsed": false,
     "input": [
      "for variable in variables:\n",
      "    print u'{:40s} | {}'.format(variable['code'], ' | '.join('{:6.0f}'.format(value) for value in variable['values']))"
     ],
     "language": "python",
     "metadata": {},
     "outputs": [
      {
       "output_type": "stream",
       "stream": "stdout",
       "text": [
        "rsti                                     |  25000\n",
        "revdisp                                  |  24079\n"
       ]
      }
     ],
     "prompt_number": 4
    },
    {
     "cell_type": "code",
     "collapsed": false,
     "input": [],
     "language": "python",
     "metadata": {},
     "outputs": []
    }
   ],
   "metadata": {}
  }
 ]
}