{
 "metadata": {
  "name": ""
 },
 "nbformat": 3,
 "nbformat_minor": 0,
 "worksheets": [
  {
   "cells": [
    {
     "cell_type": "code",
     "collapsed": false,
     "input": [
      "import collections\n",
      "import json\n",
      "import urllib2"
     ],
     "language": "python",
     "metadata": {},
     "outputs": [],
     "prompt_number": 1
    },
    {
     "cell_type": "code",
     "collapsed": false,
     "input": [
      "simulation = dict(\n",
      "    decomposition = ['sali', 'loyer', 'revdisp'],\n",
      "    scenarios = [\n",
      "        dict(\n",
      "            axes = [\n",
      "                dict(\n",
      "                    count = 3,\n",
      "                    max = 24000,\n",
      "                    min = 0,\n",
      "                    name = 'sali',\n",
      "                    ),\n",
      "                dict(\n",
      "                    count = 2,\n",
      "                    max = 3000,\n",
      "                    min = 1000,\n",
      "                    name = 'loyer',\n",
      "                    ),\n",
      "                ],\n",
      "            test_case = dict(\n",
      "                familles = [\n",
      "                    dict(\n",
      "                        parents = ['ind0'],\n",
      "                        ),\n",
      "                    ],\n",
      "                foyers_fiscaux = [\n",
      "                    dict(\n",
      "                        declarants = ['ind0'],\n",
      "                        ),\n",
      "                    ],\n",
      "                individus = [\n",
      "                    dict(\n",
      "                        activite = u'Actif occup\u00e9',\n",
      "                        birth = 1970,\n",
      "                        cadre = True,\n",
      "                        id = 'ind0',\n",
      "                        statmarit = u'C\u00e9libataire',\n",
      "                        ),\n",
      "                    ],\n",
      "                menages = [\n",
      "                    dict(\n",
      "                        personne_de_reference = 'ind0',\n",
      "                        ),\n",
      "                    ],\n",
      "                ),\n",
      "            year = 2013,\n",
      "            ),\n",
      "        ],\n",
      "    )"
     ],
     "language": "python",
     "metadata": {},
     "outputs": [],
     "prompt_number": 2
    },
    {
     "cell_type": "code",
     "collapsed": false,
     "input": [
      "request = urllib2.Request('http://api.openfisca.fr/api/1/simulate', headers = {\n",
      "    'Content-Type': 'application/json',\n",
      "    'User-Agent': 'OpenFisca-Notebook',\n",
      "    })\n",
      "try:\n",
      "    response = urllib2.urlopen(request, json.dumps(simulation))\n",
      "except urllib2.HTTPError as response:\n",
      "    print response.read()\n",
      "    raise\n",
      "response_text = response.read()\n",
      "response_dict = json.loads(response_text, object_pairs_hook = collections.OrderedDict)\n",
      "tree = response_dict['value']"
     ],
     "language": "python",
     "metadata": {},
     "outputs": [],
     "prompt_number": 3
    },
    {
     "cell_type": "code",
     "collapsed": false,
     "input": [
      "for node in tree:\n",
      "    print u'{:40s} | {}'.format(node['code'], ' | '.join('{:6.0f}'.format(value) for value in node['values']))"
     ],
     "language": "python",
     "metadata": {},
     "outputs": [
      {
       "output_type": "stream",
       "stream": "stdout",
       "text": [
        "sali                                     |      0 |  12000 |  24000 |      0 |  12000 |  24000\n",
        "loyer                                    |   1000 |   1000 |   1000 |   3000 |   3000 |   3000\n",
        "revdisp                                  |   5255 |  12695 |  22326 |   5255 |  12695 |  22326\n"
       ]
      }
     ],
     "prompt_number": 4
    }
   ],
   "metadata": {}
  }
 ]
}